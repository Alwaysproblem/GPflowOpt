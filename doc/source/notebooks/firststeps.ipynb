{
 "cells": [
  {
   "cell_type": "markdown",
   "metadata": {
    "collapsed": true
   },
   "source": [
    "# First steps into Bayesian optimization\n",
    "*Ivo Couckuyt*, *Joachim van der Herten*"
   ]
  },
  {
   "cell_type": "markdown",
   "metadata": {},
   "source": [
    "## Introduction\n",
    "\n",
    "Bayesian optimization is particularly useful for expensive optimization problems. This includes optimization problems where the objective (and constraints) are time-consuming to evaluate: measurements, engineering simulations, hyperparameter optimization of deep learning models, etc. Another area where Bayesian optimization may provide a benefit is in the presence of (a lot of) noise. If your problem does not satisfy these requirements other optimization algorithms might be better suited.\n",
    "\n",
    "To setup a Bayesian optimization scheme with GPflowOpt you have to:\n",
    "\n",
    "- define your objective and specify the optimization domain\n",
    "- setup a GPflow model and choose an acquisition function\n",
    "- create a BayesianOptimizer"
   ]
  },
  {
   "cell_type": "markdown",
   "metadata": {},
   "source": [
    "## Objective function"
   ]
  },
  {
   "cell_type": "code",
   "execution_count": 1,
   "metadata": {},
   "outputs": [
    {
     "data": {
      "text/html": [
       "<table id='domain' width=100%><tr><td>Name</td><td>Type</td><td>Values</td></tr><tr><td>x1</td><td>Continuous</td><td>[-5. 10.]</td></tr><tr><td>x2</td><td>Continuous</td><td>[ 0. 15.]</td></tr></table>"
      ],
      "text/plain": [
       "<gpflowopt.domain.Domain at 0x1b0ec07deb8>"
      ]
     },
     "execution_count": 1,
     "metadata": {},
     "output_type": "execute_result"
    }
   ],
   "source": [
    "import numpy as np\n",
    "from gpflowopt.domain import ContinuousParameter\n",
    "\n",
    "\n",
    "def branin(x):\n",
    "    x = np.atleast_2d(x)\n",
    "    x1 = x[:, 0]\n",
    "    x2 = x[:, 1]\n",
    "    a = 1.\n",
    "    b = 5.1 / (4. * np.pi ** 2)\n",
    "    c = 5. / np.pi\n",
    "    r = 6.\n",
    "    s = 10.\n",
    "    t = 1. / (8. * np.pi)\n",
    "    ret = a * (x2 - b * x1 ** 2 + c * x1 - r) ** 2 + s * (1 - t) * np.cos(x1) + s\n",
    "    return ret[:, None]\n",
    "\n",
    "domain = ContinuousParameter('x1', -5, 10) + \\\n",
    "         ContinuousParameter('x2', 0, 15)\n",
    "domain"
   ]
  },
  {
   "cell_type": "markdown",
   "metadata": {},
   "source": [
    "## Bayesian optimizer"
   ]
  },
  {
   "cell_type": "code",
   "execution_count": 2,
   "metadata": {},
   "outputs": [
    {
     "name": "stderr",
     "output_type": "stream",
     "text": [
      "WARNING:gpflow.logdensities:Shape of x must be 2D at computation.\n"
     ]
    },
    {
     "name": "stdout",
     "output_type": "stream",
     "text": [
      "iter #  0 - MLL [-31.2] - fmin [4.42]\n",
      "iter #  1 - MLL [-32.6] - fmin [4.42]\n",
      "iter #  2 - MLL [-34.1] - fmin [4.42]\n",
      "iter #  3 - MLL [-32.6] - fmin [4.42]\n",
      "iter #  4 - MLL [-20.8] - fmin [4.42]\n",
      "iter #  5 - MLL [-38.3] - fmin [4.42]\n",
      "iter #  6 - MLL [-30.8] - fmin [4.42]\n",
      "iter #  7 - MLL [-35.1] - fmin [4.42]\n",
      "iter #  8 - MLL [-37.9] - fmin [2.42]\n",
      "iter #  9 - MLL [-25.1] - fmin [2.42]\n",
      " constraints: array([], dtype=float64)\n",
      "         fun: array([2.4189057])\n",
      "     message: 'OK'\n",
      "        nfev: 10\n",
      "     success: True\n",
      "           x: array([[10.        ,  3.69271384]])\n"
     ]
    }
   ],
   "source": [
    "import gpflow\n",
    "from gpflowopt.bo import BayesianOptimizer\n",
    "from gpflowopt.design import LatinHyperCube\n",
    "from gpflowopt.acquisition import ExpectedImprovement\n",
    "from gpflowopt.optim import SciPyOptimizer\n",
    "\n",
    "# Use standard Gaussian process Regression\n",
    "lhd = LatinHyperCube(21, domain)\n",
    "X = lhd.generate()\n",
    "Y = branin(X)\n",
    "\n",
    "with gpflow.defer_build():\n",
    "    model = gpflow.models.GPR(X, Y, gpflow.kernels.Matern52(2, ARD=True))\n",
    "    model.kern.lengthscales.transform = gpflow.transforms.Log1pe(1e-3)\n",
    "model.compile()\n",
    "\n",
    "# Now create the Bayesian Optimizer\n",
    "alpha = ExpectedImprovement(model)\n",
    "optimizer = BayesianOptimizer(domain, alpha, verbose=True)\n",
    "\n",
    "# Run the Bayesian optimization\n",
    "r = optimizer.optimize(branin, n_iter=10)\n",
    "print(r)"
   ]
  },
  {
   "cell_type": "markdown",
   "metadata": {},
   "source": [
    "That's all! Your objective function has now been optimized for 15 iterations."
   ]
  }
 ],
 "metadata": {
  "kernelspec": {
   "display_name": "Python 3",
   "language": "python",
   "name": "python3"
  },
  "language_info": {
   "codemirror_mode": {
    "name": "ipython",
    "version": 3
   },
   "file_extension": ".py",
   "mimetype": "text/x-python",
   "name": "python",
   "nbconvert_exporter": "python",
   "pygments_lexer": "ipython3",
   "version": "3.6.6"
  }
 },
 "nbformat": 4,
 "nbformat_minor": 1
}
