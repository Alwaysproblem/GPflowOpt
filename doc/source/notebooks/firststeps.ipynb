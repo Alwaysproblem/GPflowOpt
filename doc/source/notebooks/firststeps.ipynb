{
 "cells": [
  {
   "cell_type": "markdown",
   "metadata": {
    "collapsed": true
   },
   "source": [
    "# First steps into Bayesian optimization\n",
    "*Ivo Couckuyt*, *Joachim van der Herten*"
   ]
  },
  {
   "cell_type": "markdown",
   "metadata": {},
   "source": [
    "## Introduction\n",
    "\n",
    "Bayesian optimization is particularly useful for expensive optimization problems. This includes optimization problems where the objective (and constraints) are time-consuming to evaluate: measurements, engineering simulations, hyperparameter optimization of deep learning models, etc. Another area where Bayesian optimization may provide a benefit is in the presence of (a lot of) noise. If your problem does not satisfy these requirements other optimization algorithms might be better suited.\n",
    "\n",
    "To setup a Bayesian optimization scheme with GPflowOpt you have to:\n",
    "\n",
    "- define your objective and specify the optimization domain\n",
    "- setup a GPflow model and choose an acquisition function\n",
    "- create a BayesianOptimizer"
   ]
  },
  {
   "cell_type": "markdown",
   "metadata": {},
   "source": [
    "## Objective function"
   ]
  },
  {
   "cell_type": "code",
   "execution_count": 1,
   "metadata": {},
   "outputs": [
    {
     "name": "stderr",
     "output_type": "stream",
     "text": [
      "/home/javdrher/.virtualenvs/gpflowopt-nextgen/lib/python3.6/importlib/_bootstrap.py:219: RuntimeWarning: compiletime version 3.5 of module 'tensorflow.python.framework.fast_tensor_util' does not match runtime version 3.6\n",
      "  return f(*args, **kwds)\n"
     ]
    },
    {
     "data": {
      "text/html": [
       "<table id='domain' width=100%><tr><td>Name</td><td>Type</td><td>Values</td></tr><tr><td>x1</td><td>Continuous</td><td>[-2.  2.]</td></tr><tr><td>x2</td><td>Continuous</td><td>[-1.  2.]</td></tr></table>"
      ],
      "text/plain": [
       "<gpflowopt.domain.Domain at 0x7f040f7547b8>"
      ]
     },
     "execution_count": 1,
     "metadata": {},
     "output_type": "execute_result"
    }
   ],
   "source": [
    "import numpy as np\n",
    "from gpflowopt.domain import ContinuousParameter\n",
    "\n",
    "\n",
    "def fx(X):\n",
    "    X = np.atleast_2d(X)\n",
    "    return np.sum(np.square(X), axis=1)[:, None]\n",
    "\n",
    "domain = ContinuousParameter('x1', -2, 2) + ContinuousParameter('x2', -1, 2)\n",
    "domain"
   ]
  },
  {
   "cell_type": "markdown",
   "metadata": {},
   "source": [
    "## Bayesian optimizer"
   ]
  },
  {
   "cell_type": "code",
   "execution_count": 3,
   "metadata": {},
   "outputs": [
    {
     "name": "stdout",
     "output_type": "stream",
     "text": [
      "INFO:tensorflow:Optimization terminated with:\n",
      "  Message: b'STOP: TOTAL NO. of ITERATIONS EXCEEDS LIMIT'\n",
      "  Objective function value: 12.494610\n",
      "  Number of iterations: 6\n",
      "  Number of functions evaluations: 9\n",
      "INFO:tensorflow:Optimization terminated with:\n",
      "  Message: b'CONVERGENCE: REL_REDUCTION_OF_F_<=_FACTR*EPSMCH'\n",
      "  Objective function value: -24.872416\n",
      "  Number of iterations: 75\n",
      "  Number of functions evaluations: 94\n",
      "INFO:tensorflow:Optimization terminated with:\n",
      "  Message: b'ABNORMAL_TERMINATION_IN_LNSRCH'\n",
      "  Objective function value: -30.707543\n",
      "  Number of iterations: 0\n",
      "  Number of functions evaluations: 21\n",
      "INFO:tensorflow:Optimization terminated with:\n",
      "  Message: b'ABNORMAL_TERMINATION_IN_LNSRCH'\n",
      "  Objective function value: -30.707543\n",
      "  Number of iterations: 0\n",
      "  Number of functions evaluations: 21\n",
      "INFO:tensorflow:Optimization terminated with:\n",
      "  Message: b'ABNORMAL_TERMINATION_IN_LNSRCH'\n",
      "  Objective function value: -37.430311\n",
      "  Number of iterations: 3\n",
      "  Number of functions evaluations: 65\n",
      "INFO:tensorflow:Optimization terminated with:\n",
      "  Message: b'ABNORMAL_TERMINATION_IN_LNSRCH'\n",
      "  Objective function value: -37.430311\n",
      "  Number of iterations: 0\n",
      "  Number of functions evaluations: 21\n",
      "INFO:tensorflow:Optimization terminated with:\n",
      "  Message: b'ABNORMAL_TERMINATION_IN_LNSRCH'\n",
      "  Objective function value: -43.706150\n",
      "  Number of iterations: 0\n",
      "  Number of functions evaluations: 21\n",
      "INFO:tensorflow:Optimization terminated with:\n",
      "  Message: b'ABNORMAL_TERMINATION_IN_LNSRCH'\n",
      "  Objective function value: -43.706150\n",
      "  Number of iterations: 0\n",
      "  Number of functions evaluations: 21\n",
      "INFO:tensorflow:Optimization terminated with:\n",
      "  Message: b'CONVERGENCE: REL_REDUCTION_OF_F_<=_FACTR*EPSMCH'\n",
      "  Objective function value: -49.901661\n",
      "  Number of iterations: 1\n",
      "  Number of functions evaluations: 13\n",
      "INFO:tensorflow:Optimization terminated with:\n",
      "  Message: b'CONVERGENCE: REL_REDUCTION_OF_F_<=_FACTR*EPSMCH'\n",
      "  Objective function value: -49.901661\n",
      "  Number of iterations: 1\n",
      "  Number of functions evaluations: 13\n",
      "INFO:tensorflow:Optimization terminated with:\n",
      "  Message: b'CONVERGENCE: REL_REDUCTION_OF_F_<=_FACTR*EPSMCH'\n",
      "  Objective function value: -56.038033\n",
      "  Number of iterations: 1\n",
      "  Number of functions evaluations: 18\n",
      "INFO:tensorflow:Optimization terminated with:\n",
      "  Message: b'CONVERGENCE: REL_REDUCTION_OF_F_<=_FACTR*EPSMCH'\n",
      "  Objective function value: -56.038033\n",
      "  Number of iterations: 1\n",
      "  Number of functions evaluations: 18\n",
      "INFO:tensorflow:Optimization terminated with:\n",
      "  Message: b'ABNORMAL_TERMINATION_IN_LNSRCH'\n",
      "  Objective function value: -62.129604\n",
      "  Number of iterations: 0\n",
      "  Number of functions evaluations: 21\n",
      "INFO:tensorflow:Optimization terminated with:\n",
      "  Message: b'ABNORMAL_TERMINATION_IN_LNSRCH'\n",
      "  Objective function value: -62.129604\n",
      "  Number of iterations: 0\n",
      "  Number of functions evaluations: 21\n",
      "INFO:tensorflow:Optimization terminated with:\n",
      "  Message: b'ABNORMAL_TERMINATION_IN_LNSRCH'\n",
      "  Objective function value: -68.334965\n",
      "  Number of iterations: 1\n",
      "  Number of functions evaluations: 31\n",
      "INFO:tensorflow:Optimization terminated with:\n",
      "  Message: b'ABNORMAL_TERMINATION_IN_LNSRCH'\n",
      "  Objective function value: -68.249498\n",
      "  Number of iterations: 0\n",
      "  Number of functions evaluations: 21\n",
      "INFO:tensorflow:Optimization terminated with:\n",
      "  Message: b'ABNORMAL_TERMINATION_IN_LNSRCH'\n",
      "  Objective function value: -74.480561\n",
      "  Number of iterations: 0\n",
      "  Number of functions evaluations: 21\n",
      "INFO:tensorflow:Optimization terminated with:\n",
      "  Message: b'ABNORMAL_TERMINATION_IN_LNSRCH'\n",
      "  Objective function value: -74.480561\n",
      "  Number of iterations: 0\n",
      "  Number of functions evaluations: 21\n",
      "INFO:tensorflow:Optimization terminated with:\n",
      "  Message: b'ABNORMAL_TERMINATION_IN_LNSRCH'\n",
      "  Objective function value: -80.574913\n",
      "  Number of iterations: 0\n",
      "  Number of functions evaluations: 21\n",
      "INFO:tensorflow:Optimization terminated with:\n",
      "  Message: b'ABNORMAL_TERMINATION_IN_LNSRCH'\n",
      "  Objective function value: -80.574913\n",
      "  Number of iterations: 0\n",
      "  Number of functions evaluations: 21\n",
      "     fun: array([ 0.01])\n",
      " message: 'OK'\n",
      "    nfev: 10\n",
      " success: True\n",
      "       x: array([[ 0. , -0.1]])\n"
     ]
    }
   ],
   "source": [
    "import gpflow\n",
    "from gpflowopt.bo import BayesianOptimizer\n",
    "from gpflowopt.design import LatinHyperCube\n",
    "from gpflowopt.acquisition import ExpectedImprovement\n",
    "from gpflowopt.optim import SciPyOptimizer\n",
    "\n",
    "# Use standard Gaussian process Regression\n",
    "lhd = LatinHyperCube(21, domain)\n",
    "X = lhd.generate()\n",
    "Y = fx(X)\n",
    "\n",
    "with gpflow.defer_build():\n",
    "    model = gpflow.models.GPR(X, Y, gpflow.kernels.Matern52(2, ARD=True))\n",
    "    model.kern.lengthscales.transform = gpflow.transforms.Log1pe(1e-3)\n",
    "model.compile()\n",
    "\n",
    "# Now create the Bayesian Optimizer\n",
    "alpha = ExpectedImprovement(model)\n",
    "optimizer = BayesianOptimizer(domain, alpha)\n",
    "\n",
    "# Run the Bayesian optimization\n",
    "with optimizer.silent():\n",
    "    r = optimizer.optimize(fx, n_iter=10)\n",
    "print(r)"
   ]
  },
  {
   "cell_type": "markdown",
   "metadata": {},
   "source": [
    "That's all! Your objective function has now been optimized for 15 iterations."
   ]
  }
 ],
 "metadata": {
  "kernelspec": {
   "display_name": "Python 3",
   "language": "python",
   "name": "python3"
  },
  "language_info": {
   "codemirror_mode": {
    "name": "ipython",
    "version": 3
   },
   "file_extension": ".py",
   "mimetype": "text/x-python",
   "name": "python",
   "nbconvert_exporter": "python",
   "pygments_lexer": "ipython3",
   "version": "3.6.3"
  }
 },
 "nbformat": 4,
 "nbformat_minor": 1
}
