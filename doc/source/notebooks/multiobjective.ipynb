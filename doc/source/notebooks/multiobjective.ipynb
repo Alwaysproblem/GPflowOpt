{
 "cells": [
  {
   "cell_type": "markdown",
   "metadata": {},
   "source": [
    "# Bayesian Multiobjective Optimization\n",
    "*Joachim van der Herten, Ivo Couckuyt*"
   ]
  },
  {
   "cell_type": "markdown",
   "metadata": {},
   "source": [
    "## Introduction\n",
    "\n",
    "This notebook demonstrates the multiobjective optimization of an analytical function using the hypervolume-based probability of improvement function."
   ]
  },
  {
   "cell_type": "code",
   "execution_count": 1,
   "metadata": {},
   "outputs": [],
   "source": [
    "%matplotlib inline\n",
    "import matplotlib.pyplot as plt\n",
    "\n",
    "import gpflow\n",
    "import gpflowopt\n",
    "import numpy as np"
   ]
  },
  {
   "cell_type": "markdown",
   "metadata": {},
   "source": [
    "We setup the Veldhuizen and Lamont multiobjective optimization problem 2 (vlmop2). The objectives of vlmop2 are very easy to model. Ideal for illustrating Bayesian multiobjective optimization."
   ]
  },
  {
   "cell_type": "code",
   "execution_count": 2,
   "metadata": {},
   "outputs": [
    {
     "data": {
      "image/png": "[encoded data removed]",
      "text/plain": [
       "<Figure size 1080x360 with 2 Axes>"
      ]
     },
     "metadata": {},
     "output_type": "display_data"
    }
   ],
   "source": [
    "# Objective\n",
    "def vlmop2(x):\n",
    "    transl = 1 / np.sqrt(2)\n",
    "    part1 = (x[:, [0]] - transl) ** 2 + (x[:, [1]] - transl) ** 2\n",
    "    part2 = (x[:, [0]] + transl) ** 2 + (x[:, [1]] + transl) ** 2\n",
    "    y1 = 1 - np.exp(-1 * part1)\n",
    "    y2 = 1 - np.exp(-1 * part2)\n",
    "    return np.hstack((y1, y2))\n",
    "\n",
    "# Setup input domain\n",
    "domain = gpflowopt.domain.ContinuousParameter('x1', -2, 2) + \\\n",
    "         gpflowopt.domain.ContinuousParameter('x2', -2, 2)\n",
    "\n",
    "# Plot\n",
    "def plotfx():  \n",
    "    X = gpflowopt.design.FactorialDesign(101, domain).generate()\n",
    "    Z = vlmop2(X)\n",
    "    shape = (101, 101)\n",
    "    \n",
    "    axes = []\n",
    "    plt.figure(figsize=(15, 5))\n",
    "    for i in range(Z.shape[1]):\n",
    "        axes = axes + [plt.subplot2grid((1, 2), (0, i))]\n",
    "\n",
    "        axes[-1].contourf(X[:,0].reshape(shape), X[:,1].reshape(shape), Z[:,i].reshape(shape))\n",
    "        axes[-1].set_title('Objective {}'.format(i+1))\n",
    "        axes[-1].set_xlabel('x1')\n",
    "        axes[-1].set_ylabel('x2')\n",
    "        axes[-1].set_xlim([domain.lower[0], domain.upper[0]])\n",
    "        axes[-1].set_ylim([domain.lower[1], domain.upper[1]])\n",
    "    \n",
    "    return axes\n",
    "\n",
    "plotfx();"
   ]
  },
  {
   "cell_type": "markdown",
   "metadata": {},
   "source": [
    "## Multiobjective acquisition function\n",
    "\n",
    "We can model the belief of each objective by one GP prior or model each objective separately using a GP prior. We illustrate the latter approach here. A set of data points arranged in a Latin Hypercube is evaluated on the vlmop2 function.\n",
    "\n",
    "In multiobjective optimization the definition of improvement is ambigious. Here we define improvement using the contributing hypervolume which will determine the focus on density and uniformity of the Pareto set during sampling. For instance, due to the nature of the contributing hypervolume steep slopes in the Pareto front will be sampled less densely. The hypervolume-based probability of improvement is based on the model(s) of the objective functions (vlmop2) and aggregates all the information in one cost function which is a balance between:\n",
    "\n",
    "- improving our belief of the objectives (high uncertainty)\n",
    "- favoring points improving the Pareto set (large contributing hypervolume with a likely higher uncertainty)\n",
    "- focussing on augmenting the Pareto set (small contributing hypervolume but with low uncertainty). "
   ]
  },
  {
   "cell_type": "code",
   "execution_count": 3,
   "metadata": {},
   "outputs": [
    {
     "name": "stderr",
     "output_type": "stream",
     "text": [
      "WARNING:gpflow.logdensities:Shape of x must be 2D at computation.\n",
      "WARNING:gpflow.logdensities:Shape of x must be 2D at computation.\n"
     ]
    }
   ],
   "source": [
    "# Initial evaluations\n",
    "design = gpflowopt.design.LatinHyperCube(11, domain)\n",
    "X = design.generate()\n",
    "Y = vlmop2(X)\n",
    "\n",
    "# One model for each objective\n",
    "objective_models = [gpflow.models.GPR(X.copy(), Y[:,[i]].copy(), gpflow.kernels.Matern52(2, ARD=True)) for i in range(Y.shape[1])]\n",
    "for model in objective_models:\n",
    "    model.likelihood.variance = 0.01\n",
    "\n",
    "hvpoi = gpflowopt.acquisition.HVProbabilityOfImprovement(objective_models)"
   ]
  },
  {
   "cell_type": "markdown",
   "metadata": {},
   "source": [
    "## Running the Bayesian optimizer\n",
    "\n",
    "The optimization surface of multiobjective acquisition functions can be even more challenging than, e.g., standard expected improvement. Hence, a hybrid optimization scheme is preferred: a Monte Carlo optimization step first, then optimize the point with the best value.\n",
    "\n",
    "We then run the Bayesian Optimization and allow it to select up to 20 additional decisions. "
   ]
  },
  {
   "cell_type": "code",
   "execution_count": null,
   "metadata": {
    "scrolled": false
   },
   "outputs": [
    {
     "name": "stdout",
     "output_type": "stream",
     "text": [
      "iter #  0 - MLL [-17.0, -17.0] - fmin [0.385, 0.0171] (size 4) - constraints [] - ABNORMAL_TERMINATION_IN_LNSRCH\n",
      "iter #  1 - MLL [-17.2, -18.4] - fmin [0.318, 0.0171] (size 4) - constraints [] - ABNORMAL_TERMINATION_IN_LNSRCH\n",
      "iter #  2 - MLL [-17.3, -19.9] - fmin [0.318, 0.0171] (size 4) - constraints [] - ABNORMAL_TERMINATION_IN_LNSRCH\n",
      "iter #  3 - MLL [-28.4, -21.3] - fmin [0.318, 0.0171] (size 4) - constraints [] - ABNORMAL_TERMINATION_IN_LNSRCH\n",
      "iter #  4 - MLL [-19.5, -22.7] - fmin [0.0358, 0.0171] (size 4) - constraints [] - ABNORMAL_TERMINATION_IN_LNSRCH\n",
      "iter #  5 - MLL [-19.7, -24.4] - fmin [0.0358, 0.0171] (size 3) - constraints [] - ABNORMAL_TERMINATION_IN_LNSRCH\n",
      "iter #  6 - MLL [-24.2, -25.4] - fmin [0.0358, 0.0171] (size 4) - constraints [] - ABNORMAL_TERMINATION_IN_LNSRCH\n",
      "iter #  7 - MLL [-23.4, -27.1] - fmin [0.0358, 0.0171] (size 4) - constraints [] - ABNORMAL_TERMINATION_IN_LNSRCH\n",
      "iter #  8 - MLL [-24.4, -28.4] - fmin [0.0358, 0.0171] (size 5) - constraints [] - ABNORMAL_TERMINATION_IN_LNSRCH\n",
      "iter #  9 - MLL [-23.4, -29.8] - fmin [0.0358, 0.0171] (size 6) - constraints [] - ABNORMAL_TERMINATION_IN_LNSRCH\n",
      "iter # 10 - MLL [-27.2, -31.2] - fmin [0.0358, 0.0171] (size 6) - constraints [] - ABNORMAL_TERMINATION_IN_LNSRCH\n",
      "iter # 11 - MLL [-25.1, -32.2] - fmin [0.0358, 0.0171] (size 6) - constraints [] - ABNORMAL_TERMINATION_IN_LNSRCH\n",
      "iter # 12 - MLL [-22.5, -34.1] - fmin [0.0358, 0.0171] (size 6) - constraints [] - ABNORMAL_TERMINATION_IN_LNSRCH\n",
      "iter # 13 - MLL [-35.0, -34.7] - fmin [0.0358, 0.0171] (size 7) - constraints [] - ABNORMAL_TERMINATION_IN_LNSRCH\n",
      "iter # 14 - MLL [-22.2, -37.5] - fmin [0.0358, 0.0171] (size 7) - constraints [] - ABNORMAL_TERMINATION_IN_LNSRCH\n",
      "iter # 15 - MLL [-15.7, -38.3] - fmin [0.0358, 0.0171] (size 7) - constraints [] - ABNORMAL_TERMINATION_IN_LNSRCH\n",
      "iter # 16 - MLL [-29.5, -20.4] - fmin [0.0358, 0.0171] (size 8) - constraints [] - ABNORMAL_TERMINATION_IN_LNSRCH\n",
      "iter # 17 - MLL [-32.0, -41.7] - fmin [0.0358, 0.0171] (size 8) - constraints [] - ABNORMAL_TERMINATION_IN_LNSRCH\n"
     ]
    }
   ],
   "source": [
    "# First setup the optimization strategy for the acquisition function\n",
    "# Combining MC step followed by L-BFGS-B\n",
    "acquisition_opt = gpflowopt.optim.StagedOptimizer([gpflowopt.optim.MCOptimizer(domain, 1000), \n",
    "                                                   gpflowopt.optim.SciPyOptimizer(domain)])\n",
    "\n",
    "# Then run the BayesianOptimizer for 20 iterations\n",
    "optimizer = gpflowopt.BayesianOptimizer(domain, hvpoi, optimizer=acquisition_opt, verbose=True)\n",
    "result = optimizer.optimize([vlmop2], n_iter=20)\n",
    "\n",
    "print(result)\n",
    "print(optimizer.acquisition.pareto.front.value)"
   ]
  },
  {
   "cell_type": "markdown",
   "metadata": {},
   "source": [
    "For multiple objectives the returned `OptimizeResult` object contains the identified Pareto set instead of just a single optimum. Note that this is computed on the raw data Y.\n",
    "\n",
    "The hypervolume-based probability of improvement operates on the Pareto set derived from the model predictions of the training data (to handle noise). This latter Pareto set can be found as `optimizer.acquisition.pareto.front.value`.\n",
    "\n",
    "## Plotting the results\n",
    "\n",
    "Lets plot the belief of the final models and acquisition function."
   ]
  },
  {
   "cell_type": "code",
   "execution_count": null,
   "metadata": {
    "scrolled": false
   },
   "outputs": [],
   "source": [
    "def plot():\n",
    "    grid_size = 51  # 101\n",
    "    shape = (grid_size, grid_size)\n",
    "    \n",
    "    Xeval = gpflowopt.design.FactorialDesign(grid_size, domain).generate()\n",
    "    \n",
    "    Yeval_1, _ = hvpoi.models[0].predict_f(Xeval)\n",
    "    Yeval_2, _ = hvpoi.models[1].predict_f(Xeval)\n",
    "            \n",
    "    Yevalc = hvpoi.evaluate(Xeval)\n",
    "    \n",
    "    plots = [((0,0), 1, 1, 'Objective 1 model', Yeval_1[:,0]),\n",
    "             ((0,1), 1, 1, 'Objective 2 model', Yeval_2[:,0]),\n",
    "             ((1,0), 2, 2, 'hypervolume-based PoI', Yevalc)]\n",
    "\n",
    "    plt.figure(figsize=(7,7))\n",
    "    for i, (plot_pos, plot_rowspan, plot_colspan, plot_title, plot_data) in enumerate(plots):\n",
    "        data = hvpoi.data[0]\n",
    "            \n",
    "        ax = plt.subplot2grid((3, 2), plot_pos, rowspan=plot_rowspan, colspan=plot_colspan)\n",
    "        ax.contourf(Xeval[:,0].reshape(shape), Xeval[:,1].reshape(shape), plot_data.reshape(shape))\n",
    "        ax.scatter(data[:,0], data[:,1], c='w')\n",
    "        ax.set_title(plot_title)\n",
    "        ax.set_xlabel('x1')\n",
    "        ax.set_ylabel('x2')\n",
    "        ax.set_xlim([domain.lower[0], domain.upper[0]])\n",
    "        ax.set_ylim([domain.lower[1], domain.upper[1]])\n",
    "    plt.tight_layout()\n",
    "    \n",
    "# Plot representing the model belief, and the belief mapped to EI and PoF\n",
    "plot()\n",
    "\n",
    "for model in objective_models:\n",
    "    print(model)"
   ]
  },
  {
   "cell_type": "markdown",
   "metadata": {},
   "source": [
    "Finally, we can extract and plot the Pareto front ourselves using the `pareto.non_dominated_sort` function on the final data matrix Y.\n",
    "\n",
    "The non-dominated sort returns the Pareto set (non-dominated solutions) as well as a dominance vector holding the number of dominated points for each point in Y. For example, we could only select the points with dom == 2, or dom == 0 (the latter retrieves the non-dominated solutions). Here we choose to use the dominance vector to color the points."
   ]
  },
  {
   "cell_type": "code",
   "execution_count": null,
   "metadata": {
    "scrolled": false
   },
   "outputs": [],
   "source": [
    "# plot pareto front\n",
    "plt.figure(figsize=(9, 4))\n",
    "\n",
    "R = np.array([1.5, 1.5])\n",
    "print('R:', R)\n",
    "hv = hvpoi.pareto.hypervolume(R)\n",
    "print('Hypervolume indicator:', hv)\n",
    "\n",
    "plt.figure(figsize=(7, 7))\n",
    "\n",
    "pf, dom = gpflowopt.pareto.non_dominated_sort(hvpoi.data[1])\n",
    "\n",
    "plt.scatter(hvpoi.data[1][:,0], hvpoi.data[1][:,1], c=dom)\n",
    "plt.title('Pareto set')\n",
    "plt.xlabel('Objective 1')\n",
    "plt.ylabel('Objective 2')"
   ]
  },
  {
   "cell_type": "code",
   "execution_count": null,
   "metadata": {},
   "outputs": [],
   "source": []
  }
 ],
 "metadata": {
  "kernelspec": {
   "display_name": "Python 3",
   "language": "python",
   "name": "python3"
  },
  "language_info": {
   "codemirror_mode": {
    "name": "ipython",
    "version": 3
   },
   "file_extension": ".py",
   "mimetype": "text/x-python",
   "name": "python",
   "nbconvert_exporter": "python",
   "pygments_lexer": "ipython3",
   "version": "3.6.6"
  }
 },
 "nbformat": 4,
 "nbformat_minor": 1
}
